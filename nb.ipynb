{
 "cells": [
  {
   "cell_type": "code",
   "execution_count": 7,
   "metadata": {},
   "outputs": [],
   "source": [
    "import glob\n",
    "import os\n",
    "import pandas as pd"
   ]
  },
  {
   "cell_type": "code",
   "execution_count": 28,
   "metadata": {},
   "outputs": [],
   "source": [
    "storage_path = \"data/mmmkosice/html/\"\n",
    "htmls = sorted(glob.glob(os.path.join(storage_path, \"*\")))"
   ]
  },
  {
   "cell_type": "code",
   "execution_count": 30,
   "metadata": {},
   "outputs": [
    {
     "name": "stderr",
     "output_type": "stream",
     "text": [
      "/tmp/ipykernel_55164/1806253220.py:16: FutureWarning: The behavior of DataFrame concatenation with empty or all-NA entries is deprecated. In a future version, this will no longer exclude empty or all-NA columns when determining the result dtypes. To retain the old behavior, exclude the relevant entries before the concat operation.\n",
      "  dfs = pd.concat(dfs)\n"
     ]
    }
   ],
   "source": [
    "dfs = []\n",
    "for file in htmls:\n",
    "\n",
    "    year = int(os.path.basename(file).split(\".\")[0])\n",
    "\n",
    "    df = pd.read_html(file, match=\"Priezvisko\")\n",
    "    assert len(df) == 2\n",
    "\n",
    "    df[0]['Rocnik'] = year\n",
    "    df[0]['Gender'] = \"M\"\n",
    "    df[1]['Rocnik'] = year\n",
    "    df[1]['Gender'] = \"F\"\n",
    "\n",
    "    dfs.append(df[0])\n",
    "    dfs.append(df[1])\n",
    "dfs = pd.concat(dfs)\n"
   ]
  },
  {
   "cell_type": "code",
   "execution_count": 37,
   "metadata": {},
   "outputs": [
    {
     "name": "stdout",
     "output_type": "stream",
     "text": [
      "Total starts: 46894\n"
     ]
    }
   ],
   "source": [
    "print(\"Total starts:\", len(dfs))"
   ]
  },
  {
   "cell_type": "code",
   "execution_count": 38,
   "metadata": {},
   "outputs": [
    {
     "name": "stdout",
     "output_type": "stream",
     "text": [
      "DNFS:  3243\n"
     ]
    }
   ],
   "source": [
    "print(\"DNFS: \", sum(dfs['Cieľ. čas']==\"DNF\"))"
   ]
  },
  {
   "cell_type": "code",
   "execution_count": 43,
   "metadata": {},
   "outputs": [
    {
     "name": "stdout",
     "output_type": "stream",
     "text": [
      "First timers 20669, returned: 26225 \n"
     ]
    }
   ],
   "source": [
    "duplicates = dfs.duplicated([\"Priezvisko\", \"Meno\", \"Rok nar.\"])\n",
    "n_returned_starts = sum(duplicates)\n",
    "n_first_timers = len(dfs) - n_returned_starts\n",
    "print(f\"First timers {n_first_timers}, returned: {n_returned_starts} \")\n"
   ]
  },
  {
   "cell_type": "code",
   "execution_count": 49,
   "metadata": {},
   "outputs": [
    {
     "data": {
      "text/plain": [
       "19586"
      ]
     },
     "execution_count": 49,
     "metadata": {},
     "output_type": "execute_result"
    }
   ],
   "source": [
    "finishers = dfs.query('`Cieľ. čas` != \"DNF\"')\n",
    "unique_finishers = (~finishers.duplicated(\n",
    "    [\"Priezvisko\", \"Meno\", \"Rok nar.\"]))\n",
    "sum(unique_finishers)"
   ]
  },
  {
   "cell_type": "code",
   "execution_count": 52,
   "metadata": {},
   "outputs": [
    {
     "data": {
      "text/plain": [
       "8504"
      ]
     },
     "execution_count": 52,
     "metadata": {},
     "output_type": "execute_result"
    }
   ],
   "source": [
    "finishers_sk = dfs.query('`Cieľ. čas` != \"DNF\" and `Štát`==\"SVK\"')\n",
    "unique_finishers_sk = (~finishers_sk.duplicated(\n",
    "    [\"Priezvisko\", \"Meno\", \"Rok nar.\"]))\n",
    "sum(unique_finishers_sk)"
   ]
  },
  {
   "cell_type": "code",
   "execution_count": 66,
   "metadata": {},
   "outputs": [
    {
     "data": {
      "text/html": [
       "<div>\n",
       "<style scoped>\n",
       "    .dataframe tbody tr th:only-of-type {\n",
       "        vertical-align: middle;\n",
       "    }\n",
       "\n",
       "    .dataframe tbody tr th {\n",
       "        vertical-align: top;\n",
       "    }\n",
       "\n",
       "    .dataframe thead th {\n",
       "        text-align: right;\n",
       "    }\n",
       "</style>\n",
       "<table border=\"1\" class=\"dataframe\">\n",
       "  <thead>\n",
       "    <tr style=\"text-align: right;\">\n",
       "      <th></th>\n",
       "      <th>size</th>\n",
       "    </tr>\n",
       "    <tr>\n",
       "      <th>Štát</th>\n",
       "      <th></th>\n",
       "    </tr>\n",
       "  </thead>\n",
       "  <tbody>\n",
       "    <tr>\n",
       "      <th>SVK</th>\n",
       "      <td>8211</td>\n",
       "    </tr>\n",
       "    <tr>\n",
       "      <th>TCH (SVK)</th>\n",
       "      <td>3104</td>\n",
       "    </tr>\n",
       "    <tr>\n",
       "      <th>TCH (CZE)</th>\n",
       "      <td>1933</td>\n",
       "    </tr>\n",
       "    <tr>\n",
       "      <th>POL</th>\n",
       "      <td>1623</td>\n",
       "    </tr>\n",
       "    <tr>\n",
       "      <th>CZE</th>\n",
       "      <td>1394</td>\n",
       "    </tr>\n",
       "    <tr>\n",
       "      <th>HUN</th>\n",
       "      <td>1082</td>\n",
       "    </tr>\n",
       "    <tr>\n",
       "      <th>GDR (GER)</th>\n",
       "      <td>397</td>\n",
       "    </tr>\n",
       "    <tr>\n",
       "      <th>GBR</th>\n",
       "      <td>261</td>\n",
       "    </tr>\n",
       "    <tr>\n",
       "      <th>UKR</th>\n",
       "      <td>234</td>\n",
       "    </tr>\n",
       "    <tr>\n",
       "      <th>GER</th>\n",
       "      <td>187</td>\n",
       "    </tr>\n",
       "    <tr>\n",
       "      <th>KEN</th>\n",
       "      <td>153</td>\n",
       "    </tr>\n",
       "    <tr>\n",
       "      <th>FRA</th>\n",
       "      <td>153</td>\n",
       "    </tr>\n",
       "    <tr>\n",
       "      <th>FIN</th>\n",
       "      <td>142</td>\n",
       "    </tr>\n",
       "    <tr>\n",
       "      <th>USA</th>\n",
       "      <td>131</td>\n",
       "    </tr>\n",
       "    <tr>\n",
       "      <th>RUS</th>\n",
       "      <td>123</td>\n",
       "    </tr>\n",
       "    <tr>\n",
       "      <th>AUT</th>\n",
       "      <td>102</td>\n",
       "    </tr>\n",
       "    <tr>\n",
       "      <th>ETH</th>\n",
       "      <td>95</td>\n",
       "    </tr>\n",
       "    <tr>\n",
       "      <th>NED</th>\n",
       "      <td>84</td>\n",
       "    </tr>\n",
       "    <tr>\n",
       "      <th>SRB</th>\n",
       "      <td>77</td>\n",
       "    </tr>\n",
       "    <tr>\n",
       "      <th>ITA</th>\n",
       "      <td>77</td>\n",
       "    </tr>\n",
       "  </tbody>\n",
       "</table>\n",
       "</div>"
      ],
      "text/plain": [
       "           size\n",
       "Štát           \n",
       "SVK        8211\n",
       "TCH (SVK)  3104\n",
       "TCH (CZE)  1933\n",
       "POL        1623\n",
       "CZE        1394\n",
       "HUN        1082\n",
       "GDR (GER)   397\n",
       "GBR         261\n",
       "UKR         234\n",
       "GER         187\n",
       "KEN         153\n",
       "FRA         153\n",
       "FIN         142\n",
       "USA         131\n",
       "RUS         123\n",
       "AUT         102\n",
       "ETH          95\n",
       "NED          84\n",
       "SRB          77\n",
       "ITA          77"
      ]
     },
     "execution_count": 66,
     "metadata": {},
     "output_type": "execute_result"
    }
   ],
   "source": [
    "states = dfs[~dfs.duplicated(\n",
    "    [\"Priezvisko\", \"Meno\", \"Rok nar.\"])].groupby(\"Štát\").size().to_frame(\"size\").sort_values(\"size\", ascending=False)\n",
    "states.head(20)"
   ]
  },
  {
   "cell_type": "code",
   "execution_count": null,
   "metadata": {},
   "outputs": [],
   "source": []
  }
 ],
 "metadata": {
  "kernelspec": {
   "display_name": "maraton_stats",
   "language": "python",
   "name": "python3"
  },
  "language_info": {
   "codemirror_mode": {
    "name": "ipython",
    "version": 3
   },
   "file_extension": ".py",
   "mimetype": "text/x-python",
   "name": "python",
   "nbconvert_exporter": "python",
   "pygments_lexer": "ipython3",
   "version": "3.11.2"
  }
 },
 "nbformat": 4,
 "nbformat_minor": 2
}
